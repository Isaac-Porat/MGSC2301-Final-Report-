{
 "cells": [
  {
   "cell_type": "code",
   "execution_count": 2,
   "metadata": {},
   "outputs": [],
   "source": [
    "import pandas as pd"
   ]
  },
  {
   "cell_type": "code",
   "execution_count": 3,
   "metadata": {},
   "outputs": [],
   "source": [
    "df = pd.read_csv('../student-mat.csv', delimiter=';')"
   ]
  },
  {
   "cell_type": "code",
   "execution_count": 4,
   "metadata": {},
   "outputs": [],
   "source": [
    "row_names = df.index.tolist()\n",
    "column_names = df.columns.tolist()"
   ]
  },
  {
   "cell_type": "code",
   "execution_count": null,
   "metadata": {},
   "outputs": [],
   "source": [
    "age_15_data = []\n",
    "age_15_studytime_data = []\n",
    "age_15_g1_data = []\n",
    "age_15_g2_data = []\n",
    "age_15_g3_data = []\n",
    "\n",
    "for row in row_names:\n",
    "    if df.loc[row, 'age'] == 15:\n",
    "        studytime = df.loc[row, 'studytime']\n",
    "        age_15_studytime_data.append(studytime)\n",
    "        g1 = df.loc[row, 'G1']\n",
    "        g2 = df.loc[row, 'G2']\n",
    "        g3 = df.loc[row, 'G3']\n",
    "        age_15_g1_data.append(g1)\n",
    "        age_15_g2_data.append(g2)\n",
    "        age_15_g3_data.append(g3)\n",
    "        data_dict = {'G1': g1, 'G2': g2, 'G3': g3, 'Studytime': studytime}\n",
    "        age_15_data.append(data_dict)"
   ]
  },
  {
   "cell_type": "code",
   "execution_count": null,
   "metadata": {},
   "outputs": [],
   "source": [
    "print(len(age_15_data)) # 82\n",
    "for data in age_15_data:\n",
    "    print(data) # {'G1': 7, 'G2': 8, 'G3': 10, 'Studytime': 2}"
   ]
  },
  {
   "cell_type": "markdown",
   "metadata": {},
   "source": [
    "Descriptive Statistics "
   ]
  },
  {
   "cell_type": "code",
   "execution_count": null,
   "metadata": {},
   "outputs": [
    {
     "name": "stdout",
     "output_type": "stream",
     "text": [
      "{2: 38, 3: 12, 1: 21, 4: 11}\n",
      "G1 Frequency: {7: 9, 15: 5, 16: 7, 14: 7, 10: 13, 13: 4, 12: 5, 9: 7, 17: 2, 8: 10, 19: 1, 11: 8, 18: 2, 6: 1, 5: 1}\n",
      "G2 Frequency: {8: 6, 14: 5, 18: 3, 15: 7, 12: 5, 10: 11, 16: 7, 9: 8, 11: 7, 7: 3, 13: 10, 6: 3, 17: 1, 19: 2, 0: 4}\n",
      "G3 Frequency: {10: 10, 15: 11, 19: 3, 9: 3, 12: 7, 14: 6, 11: 11, 16: 3, 8: 5, 17: 1, 6: 4, 18: 4, 13: 5, 7: 2, 5: 1, 0: 6}\n"
     ]
    }
   ],
   "source": [
    "# Distribution frequency\n",
    "# Studytime data\n",
    "studytime_frequency = {}\n",
    "for studytime in age_15_studytime_data:\n",
    "    if studytime in studytime_frequency:\n",
    "        studytime_frequency[studytime] += 1\n",
    "    else:\n",
    "        studytime_frequency[studytime] = 1\n",
    "\n",
    "print(studytime_frequency) # {2: 38, 3: 12, 1: 21, 4: 11}\n",
    "\n",
    "# G1, G2, G3\n",
    "g1_frequency = {}\n",
    "g2_frequency = {}\n",
    "g3_frequency = {}\n",
    "\n",
    "for g1 in age_15_g1_data:\n",
    "    if g1 in g1_frequency:\n",
    "        g1_frequency[g1] += 1\n",
    "    else:\n",
    "        g1_frequency[g1] = 1\n",
    "\n",
    "for g2 in age_15_g2_data:\n",
    "    if g2 in g2_frequency:\n",
    "        g2_frequency[g2] += 1\n",
    "    else:\n",
    "        g2_frequency[g2] = 1\n",
    "\n",
    "for g3 in age_15_g3_data:\n",
    "    if g3 in g3_frequency:\n",
    "        g3_frequency[g3] += 1\n",
    "    else:\n",
    "        g3_frequency[g3] = 1\n",
    "\n",
    "print(g1_frequency)# {7: 9, 15: 5, 16: 7, 14: 7, 10: 13, 13: 4, 12: 5, 9: 7, 17: 2, 8: 10, 19: 1, 11: 8, 18: 2, 6: 1, 5: 1}\n",
    "print(g2_frequency) # {8: 6, 14: 5, 18: 3, 15: 7, 12: 5, 10: 11, 16: 7, 9: 8, 11: 7, 7: 3, 13: 10, 6: 3, 17: 1, 19: 2, 0: 4}\n",
    "print(g3_frequency) # {10: 10, 15: 11, 19: 3, 9: 3, 12: 7, 14: 6, 11: 11, 16: 3, 8: 5, 17: 1, 6: 4, 18: 4, 13: 5, 7: 2, 5: 1, 0: 6}\n",
    "\n"
   ]
  },
  {
   "cell_type": "code",
   "execution_count": null,
   "metadata": {},
   "outputs": [],
   "source": [
    "import numpy as np\n",
    "from scipy import stats"
   ]
  },
  {
   "cell_type": "code",
   "execution_count": null,
   "metadata": {},
   "outputs": [
    {
     "name": "stdout",
     "output_type": "stream",
     "text": [
      "Studytime Data: {'mean': 2.158536585365854, 'median': 2.0, 'mode': ModeResult(mode=2, count=38)}\n",
      "G1 Data: {'mean': 11.231707317073171, 'median': 10.5, 'mode': ModeResult(mode=10, count=13)}\n",
      "G2 Data: {'mean': 11.365853658536585, 'median': 11.0, 'mode': ModeResult(mode=10, count=11)}\n",
      "G3 Data: {'mean': 11.25609756097561, 'median': 11.0, 'mode': ModeResult(mode=11, count=11)}\n"
     ]
    }
   ],
   "source": [
    "# Measures of central tendency: mean, median, mode\n",
    "\n",
    "# Calculate mean, median, mode for studytime\n",
    "studytime_mean = np.mean(age_15_studytime_data)\n",
    "studytime_median = np.median(age_15_studytime_data)\n",
    "studytime_mode = stats.mode(age_15_studytime_data)\n",
    "\n",
    "studytime_data = {\n",
    "    'mean': studytime_mean,\n",
    "    'median': studytime_median,\n",
    "    'mode': studytime_mode\n",
    "}\n",
    "\n",
    "# Calculate mean, median, mode for G1\n",
    "g1_mean = np.mean(age_15_g1_data)\n",
    "g1_median = np.median(age_15_g1_data)\n",
    "g1_mode = stats.mode(age_15_g1_data)\n",
    "\n",
    "g1_data = {\n",
    "    'mean': g1_mean,\n",
    "    'median': g1_median,\n",
    "    'mode': g1_mode\n",
    "}\n",
    "\n",
    "# Calculate mean, median, mode for G2\n",
    "g2_mean = np.mean(age_15_g2_data)\n",
    "g2_median = np.median(age_15_g2_data)\n",
    "g2_mode = stats.mode(age_15_g2_data)\n",
    "\n",
    "g2_data = {\n",
    "    'mean': g2_mean,\n",
    "    'median': g2_median,\n",
    "    'mode': g2_mode\n",
    "}\n",
    "\n",
    "# Calculate mean, median, mode for G3\n",
    "g3_mean = np.mean(age_15_g3_data)\n",
    "g3_median = np.median(age_15_g3_data)\n",
    "g3_mode = stats.mode(age_15_g3_data)\n",
    "\n",
    "g3_data = {\n",
    "    'mean': g3_mean,\n",
    "    'median': g3_median,\n",
    "    'mode': g3_mode\n",
    "}\n",
    "\n",
    "# Return 4 separate dicts of data\n",
    "print(\"Studytime Data:\", studytime_data)\n",
    "print(\"G1 Data:\", g1_data)\n",
    "print(\"G2 Data:\", g2_data)\n",
    "print(\"G3 Data:\", g3_data)\n",
    "\n",
    "# Studytime Data: {'mean': 2.158536585365854, 'median': 2.0, 'mode': ModeResult(mode=2, count=38)}\n",
    "# G1 Data: {'mean': 11.231707317073171, 'median': 10.5, 'mode': ModeResult(mode=10, count=13)}\n",
    "# G2 Data: {'mean': 11.365853658536585, 'median': 11.0, 'mode': ModeResult(mode=10, count=11)}\n",
    "# G3 Data: {'mean': 11.25609756097561, 'median': 11.0, 'mode': ModeResult(mode=11, count=11)}\n"
   ]
  },
  {
   "cell_type": "code",
   "execution_count": null,
   "metadata": {},
   "outputs": [
    {
     "name": "stdout",
     "output_type": "stream",
     "text": [
      "Studytime Range: 3\n",
      "Studytime SD: 0.9618592103942732\n",
      "Studytime Variance: 0.9251731406202949\n",
      "Studytime IQR: 1.75\n",
      "G1 Range: 14\n",
      "G1 SD: 3.341836489590069\n",
      "G1 Variance: 11.167871123155676\n",
      "G1 IQR: 5.75\n",
      "G2 Range: 19\n",
      "G2 SD: 4.129126279271636\n",
      "G2 IQR: 5.0\n",
      "G2 Variance: 17.04968383017163\n",
      "G3 Range: 19\n",
      "G3 SD: 4.596861451059939\n",
      "G3 Variance: 21.13113520024089\n",
      "G3 IQR: 5.75\n"
     ]
    }
   ],
   "source": [
    "# Measures of variability: range, sd, variance, interquartile range\n",
    "def calculate_range(data):\n",
    "    return max(data) - min(data)\n",
    "\n",
    "def calculate_sd(data):\n",
    "    return np.std(data, ddof=1)  # ddof=1 for sample standard deviation\n",
    "\n",
    "def calculate_variance(data):\n",
    "    return np.var(data, ddof=1)  # ddof=1 for sample variance\n",
    "\n",
    "def calculate_iqr(data):\n",
    "    Q1, Q3 = np.percentile(data, [25, 75])\n",
    "    return Q3 - Q1\n",
    "\n",
    "studytime_data = age_15_studytime_data\n",
    "studytime_range = calculate_range(studytime_data)\n",
    "studytime_sd = calculate_sd(studytime_data)\n",
    "studytime_variance = calculate_variance(studytime_data)\n",
    "studytime_iqr = calculate_iqr(studytime_data)\n",
    "\n",
    "print(\"Studytime Range:\", studytime_range)\n",
    "print(\"Studytime SD:\", studytime_sd)\n",
    "print(\"Studytime Variance:\", studytime_variance)\n",
    "print(\"Studytime IQR:\", studytime_iqr)\n",
    "\n",
    "g1_range = calculate_range(age_15_g1_data)\n",
    "g1_sd = calculate_sd(age_15_g1_data)\n",
    "g1_variance = calculate_variance(age_15_g1_data)\n",
    "g1_iqr = calculate_iqr(age_15_g1_data)\n",
    "\n",
    "print(\"G1 Range:\", g1_range)\n",
    "print(\"G1 SD:\", g1_sd)\n",
    "print(\"G1 Variance:\", g1_variance)\n",
    "print(\"G1 IQR:\", g1_iqr)\n",
    "\n",
    "g2_range = calculate_range(age_15_g2_data)\n",
    "g2_sd = calculate_sd(age_15_g2_data)\n",
    "g2_variance = calculate_variance(age_15_g2_data)\n",
    "g2_iqr = calculate_iqr(age_15_g2_data)\n",
    "\n",
    "print(\"G2 Range:\", g2_range)\n",
    "print(\"G2 SD:\", g2_sd)\n",
    "print(\"G2 IQR:\", g2_iqr)\n",
    "print(\"G2 Variance:\", g2_variance)\n",
    "\n",
    "g3_range = calculate_range(age_15_g3_data)\n",
    "g3_sd = calculate_sd(age_15_g3_data)\n",
    "g3_variance = calculate_variance(age_15_g3_data)\n",
    "g3_iqr = calculate_iqr(age_15_g3_data)\n",
    "\n",
    "print(\"G3 Range:\", g3_range)\n",
    "print(\"G3 SD:\", g3_sd)\n",
    "print(\"G3 Variance:\", g3_variance)\n",
    "print(\"G3 IQR:\", g3_iqr)\n",
    "\n",
    "# Studytime Range: 3\n",
    "# Studytime SD: 0.9618592103942732\n",
    "# Studytime Variance: 0.9251731406202949\n",
    "# Studytime IQR: 1.75\n",
    "# G1 Range: 14\n",
    "# G1 SD: 3.341836489590069\n",
    "# G1 Variance: 11.167871123155676\n",
    "# G1 IQR: 5.75\n",
    "# G2 Range: 19\n",
    "# G2 SD: 4.129126279271636\n",
    "# G2 IQR: 5.0\n",
    "# G2 Variance: 17.04968383017163\n",
    "# G3 Range: 19\n",
    "# G3 SD: 4.596861451059939\n",
    "# G3 Variance: 21.13113520024089\n",
    "# G3 IQR: 5.75\n",
    "\n"
   ]
  }
 ],
 "metadata": {
  "kernelspec": {
   "display_name": "venv",
   "language": "python",
   "name": "python3"
  },
  "language_info": {
   "codemirror_mode": {
    "name": "ipython",
    "version": 3
   },
   "file_extension": ".py",
   "mimetype": "text/x-python",
   "name": "python",
   "nbconvert_exporter": "python",
   "pygments_lexer": "ipython3",
   "version": "3.11.2"
  }
 },
 "nbformat": 4,
 "nbformat_minor": 2
}
