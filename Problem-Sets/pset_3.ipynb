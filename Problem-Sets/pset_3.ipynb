{
 "cells": [
  {
   "cell_type": "markdown",
   "metadata": {},
   "source": [
    "Problem 3:\n",
    "Introduce one (or more) control variables.\n",
    "- Provide Descriptive Statistics for the control variable(s)."
   ]
  },
  {
   "cell_type": "code",
   "execution_count": 38,
   "metadata": {},
   "outputs": [],
   "source": [
    "import pandas as pd"
   ]
  },
  {
   "cell_type": "code",
   "execution_count": 39,
   "metadata": {},
   "outputs": [],
   "source": [
    "df = pd.read_csv('../student-mat.csv', delimiter=';')"
   ]
  },
  {
   "cell_type": "code",
   "execution_count": 40,
   "metadata": {},
   "outputs": [],
   "source": [
    "column_names = df.columns.tolist()"
   ]
  },
  {
   "cell_type": "code",
   "execution_count": 41,
   "metadata": {},
   "outputs": [],
   "source": [
    "sage_15_data = {}\n",
    "for name in column_names:\n",
    "  if name not in ['studytime', 'G1', 'G2', 'G3'] and pd.api.types.is_numeric_dtype(df[name]):\n",
    "    sage_15_data[name] = df[name].tolist()\n"
   ]
  },
  {
   "cell_type": "code",
   "execution_count": 42,
   "metadata": {},
   "outputs": [],
   "source": [
    "def descriptive_statistics(name, data):\n",
    "    from scipy import stats\n",
    "    import numpy as np\n",
    "\n",
    "    frequency = {}\n",
    "    for freq in data:\n",
    "        if freq in frequency:\n",
    "            frequency[freq] += 1\n",
    "        else:\n",
    "            frequency[freq] = 1\n",
    "\n",
    "    mean = np.mean(data)\n",
    "\n",
    "    median = np.median(data)\n",
    "\n",
    "    try:\n",
    "        mode = stats.mode(data) if data else None\n",
    "    except IndexError:\n",
    "        mode = None\n",
    "\n",
    "    data_range = np.ptp(data)\n",
    "\n",
    "    sd = np.std(data, ddof=1)\n",
    "\n",
    "    variance = np.var(data, ddof=1)\n",
    "\n",
    "    q75, q25 = np.percentile(data, [75 ,25])\n",
    "    iqr = q75 - q25\n",
    "\n",
    "    return {\n",
    "        'name': name,\n",
    "        'frequency': frequency,\n",
    "        'mean': mean,\n",
    "        'median': median,\n",
    "        'mode': mode,\n",
    "        'range': data_range,\n",
    "        'standard_deviation': sd,\n",
    "        'variance': variance,\n",
    "        'interquartile_range': iqr\n",
    "    }\n"
   ]
  },
  {
   "cell_type": "code",
   "execution_count": 43,
   "metadata": {},
   "outputs": [
    {
     "name": "stdout",
     "output_type": "stream",
     "text": [
      "{'name': 'age', 'frequency': {18: 82, 17: 98, 15: 82, 16: 104, 19: 24, 22: 1, 20: 3, 21: 1}, 'mean': 16.696202531645568, 'median': 17.0, 'mode': ModeResult(mode=16, count=104), 'range': 7, 'standard_deviation': 1.2760427246056283, 'variance': 1.6282850350189553, 'interquartile_range': 2.0}\n",
      "{'name': 'Medu', 'frequency': {4: 131, 1: 59, 3: 99, 2: 103, 0: 3}, 'mean': 2.749367088607595, 'median': 3.0, 'mode': ModeResult(mode=4, count=131), 'range': 4, 'standard_deviation': 1.0947351414285367, 'variance': 1.1984450298785583, 'interquartile_range': 2.0}\n",
      "{'name': 'Fedu', 'frequency': {4: 96, 1: 82, 2: 115, 3: 100, 0: 2}, 'mean': 2.5215189873417723, 'median': 2.0, 'mode': ModeResult(mode=2, count=115), 'range': 4, 'standard_deviation': 1.088200545826944, 'variance': 1.1841804279380586, 'interquartile_range': 1.0}\n",
      "{'name': 'traveltime', 'frequency': {2: 107, 1: 257, 3: 23, 4: 8}, 'mean': 1.4481012658227848, 'median': 1.0, 'mode': ModeResult(mode=1, count=257), 'range': 3, 'standard_deviation': 0.6975047549086825, 'variance': 0.4865128831202212, 'interquartile_range': 1.0}\n",
      "{'name': 'failures', 'frequency': {0: 312, 3: 16, 2: 17, 1: 50}, 'mean': 0.3341772151898734, 'median': 0.0, 'mode': ModeResult(mode=0, count=312), 'range': 3, 'standard_deviation': 0.7436509736062507, 'variance': 0.5530167705455246, 'interquartile_range': 0.0}\n",
      "{'name': 'famrel', 'frequency': {4: 195, 5: 106, 3: 68, 1: 8, 2: 18}, 'mean': 3.9443037974683546, 'median': 4.0, 'mode': ModeResult(mode=4, count=195), 'range': 4, 'standard_deviation': 0.8966586076885047, 'variance': 0.8039966587418879, 'interquartile_range': 1.0}\n",
      "{'name': 'freetime', 'frequency': {3: 157, 2: 64, 4: 115, 1: 19, 5: 40}, 'mean': 3.2354430379746835, 'median': 3.0, 'mode': ModeResult(mode=3, count=157), 'range': 4, 'standard_deviation': 0.9988620396657205, 'variance': 0.9977253742851635, 'interquartile_range': 1.0}\n",
      "{'name': 'goout', 'frequency': {4: 86, 3: 130, 2: 103, 1: 23, 5: 53}, 'mean': 3.108860759493671, 'median': 3.0, 'mode': ModeResult(mode=3, count=130), 'range': 4, 'standard_deviation': 1.1132781740183424, 'variance': 1.2393882927456146, 'interquartile_range': 2.0}\n",
      "{'name': 'Dalc', 'frequency': {1: 276, 2: 75, 5: 9, 3: 26, 4: 9}, 'mean': 1.481012658227848, 'median': 1.0, 'mode': ModeResult(mode=1, count=276), 'range': 4, 'standard_deviation': 0.8907414280909669, 'variance': 0.7934202917175353, 'interquartile_range': 1.0}\n",
      "{'name': 'Walc', 'frequency': {1: 151, 3: 80, 2: 85, 4: 51, 5: 28}, 'mean': 2.2911392405063293, 'median': 2.0, 'mode': ModeResult(mode=1, count=151), 'range': 4, 'standard_deviation': 1.2878965924510932, 'variance': 1.6586776328471373, 'interquartile_range': 2.0}\n",
      "{'name': 'health', 'frequency': {3: 91, 5: 146, 1: 47, 2: 45, 4: 66}, 'mean': 3.5544303797468353, 'median': 4.0, 'mode': ModeResult(mode=5, count=146), 'range': 4, 'standard_deviation': 1.3903033913095773, 'variance': 1.9329435198869114, 'interquartile_range': 2.0}\n",
      "{'name': 'absences', 'frequency': {6: 31, 4: 53, 10: 17, 2: 65, 0: 115, 16: 7, 14: 12, 7: 7, 8: 22, 25: 1, 12: 12, 54: 1, 18: 5, 26: 1, 20: 4, 56: 1, 24: 1, 28: 1, 5: 5, 13: 3, 15: 3, 22: 3, 3: 8, 21: 1, 1: 3, 75: 1, 30: 1, 19: 1, 9: 3, 11: 3, 38: 1, 40: 1, 23: 1, 17: 1}, 'mean': 5.708860759493671, 'median': 4.0, 'mode': ModeResult(mode=0, count=115), 'range': 75, 'standard_deviation': 8.00309568710818, 'variance': 64.04954057700957, 'interquartile_range': 8.0}\n"
     ]
    }
   ],
   "source": [
    "for name, data in sage_15_data.items():\n",
    "  print(descriptive_statistics(name, data))\n"
   ]
  }
 ],
 "metadata": {
  "kernelspec": {
   "display_name": "venv",
   "language": "python",
   "name": "python3"
  },
  "language_info": {
   "codemirror_mode": {
    "name": "ipython",
    "version": 3
   },
   "file_extension": ".py",
   "mimetype": "text/x-python",
   "name": "python",
   "nbconvert_exporter": "python",
   "pygments_lexer": "ipython3",
   "version": "3.11.2"
  }
 },
 "nbformat": 4,
 "nbformat_minor": 2
}
