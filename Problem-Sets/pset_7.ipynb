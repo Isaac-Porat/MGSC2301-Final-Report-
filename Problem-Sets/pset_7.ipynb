{
 "cells": [
  {
   "cell_type": "markdown",
   "metadata": {},
   "source": [
    "Problem 7:\n",
    "Pick a random value(s) for X within the range of your data:\n",
    "- Build a 95% confidence and prediction intervals for E(yp) and yp"
   ]
  },
  {
   "cell_type": "code",
   "execution_count": 3,
   "metadata": {},
   "outputs": [],
   "source": [
    "import pandas as pd\n",
    "import statsmodels.api as sm"
   ]
  },
  {
   "cell_type": "code",
   "execution_count": 4,
   "metadata": {},
   "outputs": [],
   "source": [
    "df = pd.read_csv('../student-mat.csv', delimiter=';')"
   ]
  },
  {
   "cell_type": "code",
   "execution_count": 5,
   "metadata": {},
   "outputs": [],
   "source": [
    "row_names = df.index.tolist()\n",
    "column_names = df.columns.tolist()"
   ]
  },
  {
   "cell_type": "code",
   "execution_count": 6,
   "metadata": {},
   "outputs": [],
   "source": [
    "age_15_studytime_data = []\n",
    "age_15_g1_data = []\n",
    "age_15_g2_data = []\n",
    "age_15_g3_data = []\n",
    "\n",
    "for row in row_names:\n",
    "    if df.loc[row, 'age'] == 15:\n",
    "        studytime = df.loc[row, 'studytime']\n",
    "        g1 = df.loc[row, 'G1']\n",
    "        g2 = df.loc[row, 'G2']\n",
    "        g3 = df.loc[row, 'G3']\n",
    "        age_15_g1_data.append(g1)\n",
    "        age_15_g2_data.append(g2)\n",
    "        age_15_g3_data.append(g3)\n",
    "        age_15_studytime_data.append(studytime)"
   ]
  },
  {
   "cell_type": "code",
   "execution_count": 11,
   "metadata": {},
   "outputs": [],
   "source": [
    "X = sm.add_constant(age_15_studytime_data)\n",
    "y = age_15_g3_data"
   ]
  },
  {
   "cell_type": "code",
   "execution_count": 12,
   "metadata": {},
   "outputs": [],
   "source": [
    "model = sm.OLS(y, X).fit()"
   ]
  },
  {
   "cell_type": "code",
   "execution_count": 13,
   "metadata": {},
   "outputs": [],
   "source": [
    "new_observation = sm.add_constant([[1, 2]])  # The first 1 is for the constant term, 2 is the studytime value\n",
    "prediction = model.get_prediction(new_observation)\n",
    "prediction_summary = prediction.summary_frame(alpha=0.05)  # 95% CI and PI"
   ]
  },
  {
   "cell_type": "code",
   "execution_count": 14,
   "metadata": {},
   "outputs": [
    {
     "name": "stdout",
     "output_type": "stream",
     "text": [
      "        mean   mean_se  mean_ci_lower  mean_ci_upper  obs_ci_lower  \\\n",
      "0  11.351993  0.513614       10.32987      12.374117      2.163946   \n",
      "\n",
      "   obs_ci_upper  \n",
      "0     20.540041  \n"
     ]
    }
   ],
   "source": [
    "print(prediction_summary)"
   ]
  }
 ],
 "metadata": {
  "kernelspec": {
   "display_name": "venv",
   "language": "python",
   "name": "python3"
  },
  "language_info": {
   "codemirror_mode": {
    "name": "ipython",
    "version": 3
   },
   "file_extension": ".py",
   "mimetype": "text/x-python",
   "name": "python",
   "nbconvert_exporter": "python",
   "pygments_lexer": "ipython3",
   "version": "3.11.2"
  }
 },
 "nbformat": 4,
 "nbformat_minor": 2
}
