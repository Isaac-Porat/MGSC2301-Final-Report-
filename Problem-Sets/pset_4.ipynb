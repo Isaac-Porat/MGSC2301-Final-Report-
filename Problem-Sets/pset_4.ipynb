{
 "cells": [
  {
   "cell_type": "code",
   "execution_count": 6,
   "metadata": {},
   "outputs": [],
   "source": [
    "import pandas as pd\n",
    "import statsmodels.api as sm\n",
    "import statsmodels.formula.api as smf"
   ]
  },
  {
   "cell_type": "code",
   "execution_count": 3,
   "metadata": {},
   "outputs": [],
   "source": [
    "df = pd.read_csv('../student-mat.csv', delimiter=';')"
   ]
  },
  {
   "cell_type": "code",
   "execution_count": 4,
   "metadata": {},
   "outputs": [],
   "source": [
    "row_names = df.index.tolist()\n",
    "column_names = df.columns.tolist()"
   ]
  },
  {
   "cell_type": "code",
   "execution_count": 5,
   "metadata": {},
   "outputs": [],
   "source": [
    "age_15_studytime_data = []\n",
    "age_15_g1_data = []\n",
    "age_15_g2_data = []\n",
    "age_15_g3_data = []\n",
    "\n",
    "for row in row_names:\n",
    "    if df.loc[row, 'age'] == 15:\n",
    "        studytime = df.loc[row, 'studytime']\n",
    "        g1 = df.loc[row, 'G1']\n",
    "        g2 = df.loc[row, 'G2']\n",
    "        g3 = df.loc[row, 'G3']\n",
    "        age_15_g1_data.append(g1)\n",
    "        age_15_g2_data.append(g2)\n",
    "        age_15_g3_data.append(g3)\n",
    "        age_15_studytime_data.append(studytime)"
   ]
  },
  {
   "cell_type": "code",
   "execution_count": 7,
   "metadata": {},
   "outputs": [],
   "source": [
    "model = smf.ols('G3 ~ studytime', data=df).fit()"
   ]
  },
  {
   "cell_type": "code",
   "execution_count": 8,
   "metadata": {},
   "outputs": [
    {
     "name": "stdout",
     "output_type": "stream",
     "text": [
      "                sum_sq     df         F    PR(>F)\n",
      "studytime    79.132208    1.0  3.796826  0.052061\n",
      "Residual   8190.776653  393.0       NaN       NaN\n",
      "Regression Equation: G3 = 9.328260988559865 + 0.5340011312423562*studytime\n"
     ]
    }
   ],
   "source": [
    "anova_table = sm.stats.anova_lm(model, typ=2)\n",
    "print(anova_table)\n",
    "\n",
    "print(f\"Regression Equation: G3 = {model.params['Intercept']} + {model.params['studytime']}*studytime\")"
   ]
  },
  {
   "cell_type": "code",
   "execution_count": 9,
   "metadata": {},
   "outputs": [
    {
     "name": "stdout",
     "output_type": "stream",
     "text": [
      "                            OLS Regression Results                            \n",
      "==============================================================================\n",
      "Dep. Variable:                     G3   R-squared:                       0.010\n",
      "Model:                            OLS   Adj. R-squared:                  0.007\n",
      "Method:                 Least Squares   F-statistic:                     3.797\n",
      "Date:                Fri, 12 Apr 2024   Prob (F-statistic):             0.0521\n",
      "Time:                        18:17:12   Log-Likelihood:                -1159.3\n",
      "No. Observations:                 395   AIC:                             2323.\n",
      "Df Residuals:                     393   BIC:                             2331.\n",
      "Df Model:                           1                                         \n",
      "Covariance Type:            nonrobust                                         \n",
      "==============================================================================\n",
      "                 coef    std err          t      P>|t|      [0.025      0.975]\n",
      "------------------------------------------------------------------------------\n",
      "Intercept      9.3283      0.603     15.463      0.000       8.142      10.514\n",
      "studytime      0.5340      0.274      1.949      0.052      -0.005       1.073\n",
      "==============================================================================\n",
      "Omnibus:                       33.290   Durbin-Watson:                   2.012\n",
      "Prob(Omnibus):                  0.000   Jarque-Bera (JB):               39.231\n",
      "Skew:                          -0.742   Prob(JB):                     3.03e-09\n",
      "Kurtosis:                       3.429   Cond. No.                         6.83\n",
      "==============================================================================\n",
      "\n",
      "Notes:\n",
      "[1] Standard Errors assume that the covariance matrix of the errors is correctly specified.\n",
      "SST (Total Sum of Squares): 8269.908860759493\n",
      "SSR (Regression Sum of Squares): 79.13220814212127\n",
      "SSE (Error Sum of Squares): 8190.776652617372\n",
      "R-squared (Coefficient of Determination): 0.009568691683846886\n"
     ]
    }
   ],
   "source": [
    "print(model.summary())\n",
    "\n",
    "SST = model.centered_tss\n",
    "SSR = model.ess\n",
    "SSE = model.ssr\n",
    "R_squared = model.rsquared\n",
    "\n",
    "print(f\"SST (Total Sum of Squares): {SST}\")\n",
    "print(f\"SSR (Regression Sum of Squares): {SSR}\")\n",
    "print(f\"SSE (Error Sum of Squares): {SSE}\")\n",
    "print(f\"R-squared (Coefficient of Determination): {R_squared}\")"
   ]
  },
  {
   "cell_type": "markdown",
   "metadata": {},
   "source": [
    "The goodness of the coefficient of determination is low as the number is 0.010. This means that the dependent variable is not in proportion to the independent variable. However, this makes sense due to the amount of independent variables."
   ]
  }
 ],
 "metadata": {
  "kernelspec": {
   "display_name": "venv",
   "language": "python",
   "name": "python3"
  },
  "language_info": {
   "codemirror_mode": {
    "name": "ipython",
    "version": 3
   },
   "file_extension": ".py",
   "mimetype": "text/x-python",
   "name": "python",
   "nbconvert_exporter": "python",
   "pygments_lexer": "ipython3",
   "version": "3.11.2"
  }
 },
 "nbformat": 4,
 "nbformat_minor": 2
}
