{
 "cells": [
  {
   "cell_type": "markdown",
   "metadata": {},
   "source": [
    "Problem 5:\n",
    "Use the t test to test for significant relationship. Use α = 0.05\n",
    "- What is your conclusion: present and discuss your findings?"
   ]
  },
  {
   "cell_type": "code",
   "execution_count": 10,
   "metadata": {},
   "outputs": [],
   "source": [
    "import pandas as pd\n",
    "import scipy.stats as stats"
   ]
  },
  {
   "cell_type": "code",
   "execution_count": 7,
   "metadata": {},
   "outputs": [],
   "source": [
    "df = pd.read_csv('../student-mat.csv', delimiter=';')"
   ]
  },
  {
   "cell_type": "code",
   "execution_count": 8,
   "metadata": {},
   "outputs": [],
   "source": [
    "row_names = df.index.tolist()\n",
    "column_names = df.columns.tolist()"
   ]
  },
  {
   "cell_type": "code",
   "execution_count": 9,
   "metadata": {},
   "outputs": [],
   "source": [
    "age_15_studytime_data = []\n",
    "age_15_g1_data = []\n",
    "age_15_g2_data = []\n",
    "age_15_g3_data = []\n",
    "\n",
    "for row in row_names:\n",
    "    if df.loc[row, 'age'] == 15:\n",
    "        studytime = df.loc[row, 'studytime']\n",
    "        g1 = df.loc[row, 'G1']\n",
    "        g2 = df.loc[row, 'G2']\n",
    "        g3 = df.loc[row, 'G3']\n",
    "        age_15_g1_data.append(g1)\n",
    "        age_15_g2_data.append(g2)\n",
    "        age_15_g3_data.append(g3)\n",
    "        age_15_studytime_data.append(studytime)"
   ]
  },
  {
   "cell_type": "code",
   "execution_count": 17,
   "metadata": {},
   "outputs": [],
   "source": [
    "t_stat, p_value = stats.ttest_rel(age_15_studytime_data, age_15_g3_data)"
   ]
  },
  {
   "cell_type": "code",
   "execution_count": 18,
   "metadata": {},
   "outputs": [
    {
     "name": "stdout",
     "output_type": "stream",
     "text": [
      "T-statistic: -17.11263474788286, P-value: 1.2523095293110743e-28\n",
      "Conclusion: Reject the null hypothesis. There is a significant relationship between study time and G1 grades for students aged 15.\n"
     ]
    }
   ],
   "source": [
    "alpha = 0.05\n",
    "if p_value < alpha:\n",
    "    conclusion = \"Reject the null hypothesis. There is a significant relationship between study time and G1 grades for students aged 15.\"\n",
    "else:\n",
    "    conclusion = \"Fail to reject the null hypothesis. There is no significant relationship between study time and G1 grades for students aged 15.\"\n",
    "\n",
    "print(f\"T-statistic: {t_stat}, P-value: {p_value}\\nConclusion: {conclusion}\")"
   ]
  }
 ],
 "metadata": {
  "kernelspec": {
   "display_name": "venv",
   "language": "python",
   "name": "python3"
  },
  "language_info": {
   "codemirror_mode": {
    "name": "ipython",
    "version": 3
   },
   "file_extension": ".py",
   "mimetype": "text/x-python",
   "name": "python",
   "nbconvert_exporter": "python",
   "pygments_lexer": "ipython3",
   "version": "3.11.2"
  }
 },
 "nbformat": 4,
 "nbformat_minor": 2
}
