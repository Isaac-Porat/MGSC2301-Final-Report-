{
 "cells": [
  {
   "cell_type": "markdown",
   "metadata": {},
   "source": [
    "Problem 6:\n",
    "Compute the F value, and test for significance. Use α = 0.05. \n",
    "- What is your conclusion: present and discuss your findings?"
   ]
  },
  {
   "cell_type": "code",
   "execution_count": 2,
   "metadata": {},
   "outputs": [],
   "source": [
    "import pandas as pd\n",
    "from scipy.stats import f_oneway"
   ]
  },
  {
   "cell_type": "code",
   "execution_count": 3,
   "metadata": {},
   "outputs": [],
   "source": [
    "df = pd.read_csv('../student-mat.csv', delimiter=';')"
   ]
  },
  {
   "cell_type": "code",
   "execution_count": 4,
   "metadata": {},
   "outputs": [],
   "source": [
    "row_names = df.index.tolist()\n",
    "column_names = df.columns.tolist()"
   ]
  },
  {
   "cell_type": "code",
   "execution_count": 5,
   "metadata": {},
   "outputs": [],
   "source": [
    "age_15_studytime_data = []\n",
    "age_15_g1_data = []\n",
    "age_15_g2_data = []\n",
    "age_15_g3_data = []\n",
    "\n",
    "for row in row_names:\n",
    "    if df.loc[row, 'age'] == 15:\n",
    "        studytime = df.loc[row, 'studytime']\n",
    "        g1 = df.loc[row, 'G1']\n",
    "        g2 = df.loc[row, 'G2']\n",
    "        g3 = df.loc[row, 'G3']\n",
    "        age_15_g1_data.append(g1)\n",
    "        age_15_g2_data.append(g2)\n",
    "        age_15_g3_data.append(g3)\n",
    "        age_15_studytime_data.append(studytime)"
   ]
  },
  {
   "cell_type": "code",
   "execution_count": 6,
   "metadata": {},
   "outputs": [
    {
     "name": "stdout",
     "output_type": "stream",
     "text": [
      "F-statistic: 307.702466927876, P-value: 2.7544886693956825e-39\n",
      "Conclusion: Reject the null hypothesis. There is a significant effect of study time on the grades.\n"
     ]
    }
   ],
   "source": [
    "f_stat, p_value = f_oneway(age_15_studytime_data, age_15_g3_data)\n",
    "\n",
    "alpha = 0.05\n",
    "if p_value < alpha:\n",
    "    conclusion = \"Reject the null hypothesis. There is a significant effect of study time on the grades.\"\n",
    "else:\n",
    "    conclusion = \"Fail to reject the null hypothesis. There is no significant effect of study time on the grades.\"\n",
    "\n",
    "print(f\"F-statistic: {f_stat}, P-value: {p_value}\\nConclusion: {conclusion}\")"
   ]
  }
 ],
 "metadata": {
  "kernelspec": {
   "display_name": "venv",
   "language": "python",
   "name": "python3"
  },
  "language_info": {
   "codemirror_mode": {
    "name": "ipython",
    "version": 3
   },
   "file_extension": ".py",
   "mimetype": "text/x-python",
   "name": "python",
   "nbconvert_exporter": "python",
   "pygments_lexer": "ipython3",
   "version": "3.11.2"
  }
 },
 "nbformat": 4,
 "nbformat_minor": 2
}
